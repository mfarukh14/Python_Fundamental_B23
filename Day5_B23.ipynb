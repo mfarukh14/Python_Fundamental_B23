{
 "cells": [
  {
   "cell_type": "code",
   "execution_count": null,
   "metadata": {},
   "outputs": [],
   "source": [
    "Introduction to looping statements:\n",
    "    Working with for loops : "
   ]
  },
  {
   "cell_type": "code",
   "execution_count": null,
   "metadata": {},
   "outputs": [],
   "source": []
  },
  {
   "cell_type": "code",
   "execution_count": 5,
   "metadata": {},
   "outputs": [
    {
     "name": "stdout",
     "output_type": "stream",
     "text": [
      "['farukh', 'aman', 'kabeer', 'preeti', 'kanha', 'nehal', 'manoj', 'kartik']\n"
     ]
    }
   ],
   "source": [
    "bank_customers = ['farukh','aman','kabeer','preeti','kanha','nehal','manoj','kartik']\n",
    "print(bank_customers)"
   ]
  },
  {
   "cell_type": "code",
   "execution_count": null,
   "metadata": {},
   "outputs": [],
   "source": [
    "# Req : To greet the customers on new eve.\n",
    "\n",
    "Wish you a very happy new year"
   ]
  },
  {
   "cell_type": "code",
   "execution_count": 6,
   "metadata": {},
   "outputs": [
    {
     "name": "stdout",
     "output_type": "stream",
     "text": [
      "Wish you a very happy new year, farukh\n"
     ]
    }
   ],
   "source": [
    "print(f\"Wish you a very happy new year, {bank_customers[0]}\")"
   ]
  },
  {
   "cell_type": "code",
   "execution_count": 7,
   "metadata": {},
   "outputs": [
    {
     "name": "stdout",
     "output_type": "stream",
     "text": [
      "Wish you a very happy new year, aman\n"
     ]
    }
   ],
   "source": [
    "print(f\"Wish you a very happy new year, {bank_customers[1]}\")"
   ]
  },
  {
   "cell_type": "code",
   "execution_count": 10,
   "metadata": {},
   "outputs": [
    {
     "name": "stdout",
     "output_type": "stream",
     "text": [
      "Wish you a very happy new year, farukh\n",
      "Wish you a very happy new year, aman\n",
      "Wish you a very happy new year, kabeer\n",
      "Wish you a very happy new year, preeti\n",
      "Wish you a very happy new year, kanha\n",
      "Wish you a very happy new year, nehal\n",
      "Wish you a very happy new year, manoj\n",
      "Wish you a very happy new year, kartik\n"
     ]
    }
   ],
   "source": [
    "for customer in bank_customers:\n",
    "   print(f\"Wish you a very happy new year, {customer}\")"
   ]
  },
  {
   "cell_type": "code",
   "execution_count": null,
   "metadata": {},
   "outputs": [],
   "source": []
  },
  {
   "cell_type": "code",
   "execution_count": 13,
   "metadata": {},
   "outputs": [
    {
     "ename": "IndentationError",
     "evalue": "unexpected indent (<ipython-input-13-a3562e09d594>, line 3)",
     "output_type": "error",
     "traceback": [
      "\u001b[1;36m  File \u001b[1;32m\"<ipython-input-13-a3562e09d594>\"\u001b[1;36m, line \u001b[1;32m3\u001b[0m\n\u001b[1;33m    for tempvar in mainvar:\u001b[0m\n\u001b[1;37m    ^\u001b[0m\n\u001b[1;31mIndentationError\u001b[0m\u001b[1;31m:\u001b[0m unexpected indent\n"
     ]
    }
   ],
   "source": [
    "#general syntex of a for loop:\n",
    "\n",
    " for tempvar in mainvar:\n",
    "        print(tempvar)           ----Gap before print is indentation"
   ]
  },
  {
   "cell_type": "code",
   "execution_count": 11,
   "metadata": {},
   "outputs": [
    {
     "name": "stdout",
     "output_type": "stream",
     "text": [
      "wish you a very happy new year {'farukh'}\n",
      "wish you a very happy new year {'aman'}\n",
      "wish you a very happy new year {'kabeer'}\n",
      "wish you a very happy new year {'preeti'}\n",
      "wish you a very happy new year {'kanha'}\n",
      "wish you a very happy new year {'nehal'}\n",
      "wish you a very happy new year {'manoj'}\n",
      "wish you a very happy new year {'kartik'}\n"
     ]
    }
   ],
   "source": [
    " for x in bank_customers:\n",
    "        print(f\"wish you a very happy new year\", {x})"
   ]
  },
  {
   "cell_type": "code",
   "execution_count": null,
   "metadata": {},
   "outputs": [],
   "source": []
  },
  {
   "cell_type": "code",
   "execution_count": 24,
   "metadata": {},
   "outputs": [],
   "source": [
    "students = ['sumant','nimesh','divya','ankur','himanshu','laxman']\n"
   ]
  },
  {
   "cell_type": "code",
   "execution_count": null,
   "metadata": {},
   "outputs": [],
   "source": [
    "# Req: Appreciate the students."
   ]
  },
  {
   "cell_type": "code",
   "execution_count": 25,
   "metadata": {},
   "outputs": [
    {
     "name": "stdout",
     "output_type": "stream",
     "text": [
      "keep up the good study, Sumant\n",
      "keep up the good study, Nimesh\n",
      "keep up the good study, Divya\n",
      "keep up the good study, Ankur\n",
      "keep up the good study, Himanshu\n",
      "keep up the good study, Laxman\n"
     ]
    }
   ],
   "source": [
    "for x in students:\n",
    "    print(f\"keep up the good study, {x.title()}\")"
   ]
  },
  {
   "cell_type": "code",
   "execution_count": 21,
   "metadata": {},
   "outputs": [
    {
     "name": "stdout",
     "output_type": "stream",
     "text": [
      "keep up the good study, Sumant\n",
      "I'll be looking your work, Sumant\n",
      "keep up the good study, Nimesh\n",
      "I'll be looking your work, Nimesh\n",
      "keep up the good study, Divya\n",
      "I'll be looking your work, Divya\n",
      "keep up the good study, Ankur\n",
      "I'll be looking your work, Ankur\n",
      "keep up the good study, Himanshu\n",
      "I'll be looking your work, Himanshu\n",
      "keep up the good study, Laxman\n",
      "I'll be looking your work, Laxman\n"
     ]
    }
   ],
   "source": [
    "for x in students:\n",
    "    print(f\"keep up the good study, {x.title()}\")\n",
    "    print(f\"I'll be looking your work, {x.title()}\")"
   ]
  },
  {
   "cell_type": "code",
   "execution_count": 26,
   "metadata": {},
   "outputs": [
    {
     "name": "stdout",
     "output_type": "stream",
     "text": [
      "keep up the good study, Sumant\n",
      "I'll be looking forward to receive your work, Sumant.\n",
      "\n",
      "keep up the good study, Nimesh\n",
      "I'll be looking forward to receive your work, Nimesh.\n",
      "\n",
      "keep up the good study, Divya\n",
      "I'll be looking forward to receive your work, Divya.\n",
      "\n",
      "keep up the good study, Ankur\n",
      "I'll be looking forward to receive your work, Ankur.\n",
      "\n",
      "keep up the good study, Himanshu\n",
      "I'll be looking forward to receive your work, Himanshu.\n",
      "\n",
      "keep up the good study, Laxman\n",
      "I'll be looking forward to receive your work, Laxman.\n",
      "\n"
     ]
    }
   ],
   "source": [
    "for x in students:\n",
    "    print(f\"keep up the good study, {x.title()}\")\n",
    "    print(f\"I'll be looking forward to receive your work, {x.title()}.\\n\")"
   ]
  },
  {
   "cell_type": "code",
   "execution_count": 35,
   "metadata": {},
   "outputs": [
    {
     "name": "stdout",
     "output_type": "stream",
     "text": [
      "keep up the good study, Ankur\n",
      "I'll be looking forward to receive your work, Ankur.\n",
      "\n",
      "keep up the good study, Divya\n",
      "I'll be looking forward to receive your work, Divya.\n",
      "\n",
      "keep up the good study, Himanshu\n",
      "I'll be looking forward to receive your work, Himanshu.\n",
      "\n",
      "keep up the good study, Laxman\n",
      "I'll be looking forward to receive your work, Laxman.\n",
      "\n",
      "keep up the good study, Nimesh\n",
      "I'll be looking forward to receive your work, Nimesh.\n",
      "\n",
      "keep up the good study, Sumant\n",
      "I'll be looking forward to receive your work, Sumant.\n",
      "\n",
      "Thank you for your interest in python learing\n"
     ]
    }
   ],
   "source": [
    "for x in students:\n",
    "    print(f\"keep up the good study, {x.title()}\")\n",
    "    print(f\"I'll be looking forward to receive your work, {x.title()}.\\n\")\n",
    "\n",
    "print('Thank you for your interest in python learing')"
   ]
  },
  {
   "cell_type": "code",
   "execution_count": null,
   "metadata": {},
   "outputs": [],
   "source": []
  },
  {
   "cell_type": "code",
   "execution_count": null,
   "metadata": {},
   "outputs": [],
   "source": [
    "#Introduction to Zen of pyhton:"
   ]
  },
  {
   "cell_type": "code",
   "execution_count": 28,
   "metadata": {},
   "outputs": [
    {
     "name": "stdout",
     "output_type": "stream",
     "text": [
      "The Zen of Python, by Tim Peters\n",
      "\n",
      "Beautiful is better than ugly.\n",
      "Explicit is better than implicit.\n",
      "Simple is better than complex.\n",
      "Complex is better than complicated.\n",
      "Flat is better than nested.\n",
      "Sparse is better than dense.\n",
      "Readability counts.\n",
      "Special cases aren't special enough to break the rules.\n",
      "Although practicality beats purity.\n",
      "Errors should never pass silently.\n",
      "Unless explicitly silenced.\n",
      "In the face of ambiguity, refuse the temptation to guess.\n",
      "There should be one-- and preferably only one --obvious way to do it.\n",
      "Although that way may not be obvious at first unless you're Dutch.\n",
      "Now is better than never.\n",
      "Although never is often better than *right* now.\n",
      "If the implementation is hard to explain, it's a bad idea.\n",
      "If the implementation is easy to explain, it may be a good idea.\n",
      "Namespaces are one honking great idea -- let's do more of those!\n"
     ]
    }
   ],
   "source": [
    "import this"
   ]
  },
  {
   "cell_type": "code",
   "execution_count": null,
   "metadata": {},
   "outputs": [],
   "source": []
  },
  {
   "cell_type": "code",
   "execution_count": null,
   "metadata": {},
   "outputs": [],
   "source": [
    "#Introduction to organising the list:"
   ]
  },
  {
   "cell_type": "code",
   "execution_count": 30,
   "metadata": {},
   "outputs": [
    {
     "name": "stdout",
     "output_type": "stream",
     "text": [
      "['sumant', 'nimesh', 'divya', 'ankur', 'himanshu', 'laxman']\n"
     ]
    }
   ],
   "source": [
    "print(students)"
   ]
  },
  {
   "cell_type": "code",
   "execution_count": null,
   "metadata": {},
   "outputs": [],
   "source": [
    "# 2 possible ways\n",
    "\n",
    "1. Temp way\n",
    "\n",
    "2. Permanent way"
   ]
  },
  {
   "cell_type": "code",
   "execution_count": 31,
   "metadata": {},
   "outputs": [
    {
     "name": "stdout",
     "output_type": "stream",
     "text": [
      "['ankur', 'divya', 'himanshu', 'laxman', 'nimesh', 'sumant']\n"
     ]
    }
   ],
   "source": [
    "print(sorted(students)) ------->#temp way"
   ]
  },
  {
   "cell_type": "code",
   "execution_count": 32,
   "metadata": {},
   "outputs": [
    {
     "name": "stdout",
     "output_type": "stream",
     "text": [
      "['sumant', 'nimesh', 'divya', 'ankur', 'himanshu', 'laxman']\n"
     ]
    }
   ],
   "source": [
    "print(students)"
   ]
  },
  {
   "cell_type": "code",
   "execution_count": 33,
   "metadata": {},
   "outputs": [
    {
     "name": "stdout",
     "output_type": "stream",
     "text": [
      "['ankur', 'divya', 'himanshu', 'laxman', 'nimesh', 'sumant']\n"
     ]
    }
   ],
   "source": [
    "students.sort()  ---------->#Permanent way\n",
    "print(students)"
   ]
  },
  {
   "cell_type": "code",
   "execution_count": 34,
   "metadata": {},
   "outputs": [
    {
     "name": "stdout",
     "output_type": "stream",
     "text": [
      "['ankur', 'divya', 'himanshu', 'laxman', 'nimesh', 'sumant']\n"
     ]
    }
   ],
   "source": [
    "print(students)"
   ]
  },
  {
   "cell_type": "code",
   "execution_count": null,
   "metadata": {},
   "outputs": [],
   "source": [
    "########## sorted vs sort =======>Int question"
   ]
  },
  {
   "cell_type": "code",
   "execution_count": null,
   "metadata": {},
   "outputs": [],
   "source": []
  },
  {
   "cell_type": "code",
   "execution_count": null,
   "metadata": {},
   "outputs": [],
   "source": []
  },
  {
   "cell_type": "code",
   "execution_count": null,
   "metadata": {},
   "outputs": [],
   "source": []
  },
  {
   "cell_type": "code",
   "execution_count": null,
   "metadata": {},
   "outputs": [],
   "source": []
  },
  {
   "cell_type": "code",
   "execution_count": null,
   "metadata": {},
   "outputs": [],
   "source": []
  }
 ],
 "metadata": {
  "kernelspec": {
   "display_name": "Python 3",
   "language": "python",
   "name": "python3"
  },
  "language_info": {
   "codemirror_mode": {
    "name": "ipython",
    "version": 3
   },
   "file_extension": ".py",
   "mimetype": "text/x-python",
   "name": "python",
   "nbconvert_exporter": "python",
   "pygments_lexer": "ipython3",
   "version": "3.7.6"
  }
 },
 "nbformat": 4,
 "nbformat_minor": 4
}
